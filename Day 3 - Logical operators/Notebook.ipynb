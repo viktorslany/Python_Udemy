{
 "cells": [
  {
   "cell_type": "markdown",
   "id": "a6ae2b23",
   "metadata": {},
   "source": [
    "# Logical operations"
   ]
  },
  {
   "cell_type": "markdown",
   "id": "94f442d2",
   "metadata": {},
   "source": [
    "### If / else"
   ]
  },
  {
   "cell_type": "code",
   "execution_count": 9,
   "id": "0562dfdc",
   "metadata": {},
   "outputs": [
    {
     "name": "stdout",
     "output_type": "stream",
     "text": [
      "Welcome to the rollercoaster!\n",
      "What is your height in cm? 120\n",
      "You can ride the rollercoaster\n"
     ]
    }
   ],
   "source": [
    "print('Welcome to the rollercoaster!')\n",
    "height = int(input('What is your height in cm? '))\n",
    "\n",
    "if height >= 120:\n",
    "    print('You can ride the rollercoaster')\n",
    "else:\n",
    "    print('Sorry, you have to grow taller before you can ride.')"
   ]
  },
  {
   "cell_type": "code",
   "execution_count": 10,
   "id": "0ba18ed9",
   "metadata": {},
   "outputs": [],
   "source": [
    "#  >    \n",
    "#  <    \n",
    "#  >=\n",
    "#  <=\n",
    "#  ==  Equal to\n",
    "#  !=  Not equal to"
   ]
  },
  {
   "cell_type": "code",
   "execution_count": 25,
   "id": "99e2b812",
   "metadata": {},
   "outputs": [
    {
     "data": {
      "text/plain": [
       "14"
      ]
     },
     "execution_count": 25,
     "metadata": {},
     "output_type": "execute_result"
    }
   ],
   "source": [
    "#  %  Modulo\n",
    "\n",
    "30 % 16"
   ]
  },
  {
   "cell_type": "code",
   "execution_count": 17,
   "id": "45383f98",
   "metadata": {},
   "outputs": [
    {
     "data": {
      "text/plain": [
       "2"
      ]
     },
     "execution_count": 17,
     "metadata": {},
     "output_type": "execute_result"
    }
   ],
   "source": [
    "2%6"
   ]
  },
  {
   "cell_type": "markdown",
   "id": "8020de96",
   "metadata": {},
   "source": [
    "### Nested if / else"
   ]
  },
  {
   "cell_type": "code",
   "execution_count": 27,
   "id": "d2c835e8",
   "metadata": {},
   "outputs": [
    {
     "name": "stdout",
     "output_type": "stream",
     "text": [
      "Welcome to the rollercoaster!\n",
      "What is your height in cm? 130\n",
      "You can ride the rollercoaster\n",
      "What is your age? 10\n",
      "Please pay $5\n"
     ]
    }
   ],
   "source": [
    "print('Welcome to the rollercoaster!')\n",
    "height = int(input('What is your height in cm? '))\n",
    "\n",
    "if height >= 120:\n",
    "    print('You can ride the rollercoaster')\n",
    "    age = int(input('What is your age? '))\n",
    "    if age < 12:\n",
    "        print('Please pay $5')\n",
    "    elif age <= 18:\n",
    "        print('Please pay $7')\n",
    "    else:\n",
    "        print('Please pay $12')\n",
    "    \n",
    "else:\n",
    "    print('Sorry, you have to grow taller before you can ride.')"
   ]
  },
  {
   "cell_type": "markdown",
   "id": "2e4a3850",
   "metadata": {},
   "source": [
    "### Multiple if statements"
   ]
  },
  {
   "cell_type": "code",
   "execution_count": 29,
   "id": "7ba3d63d",
   "metadata": {},
   "outputs": [
    {
     "name": "stdout",
     "output_type": "stream",
     "text": [
      "Welcome to the rollercoaster!\n",
      "What is your height in cm? 180\n",
      "You can ride the rollercoaster\n",
      "What is your age? 21\n",
      "Adult tickets are $12\n",
      "Do you want a photo taken? Y or N. Y\n",
      "Your final bill is 15\n"
     ]
    }
   ],
   "source": [
    "bill = 0\n",
    "\n",
    "print('Welcome to the rollercoaster!')\n",
    "height = int(input('What is your height in cm? '))\n",
    "\n",
    "if height >= 120:\n",
    "    print('You can ride the rollercoaster')\n",
    "    age = int(input('What is your age? '))\n",
    "    if age < 12:\n",
    "        print('Child tickets are $5')\n",
    "        bill = 5\n",
    "    elif age <= 18:\n",
    "        print('Youth tickets are $7')\n",
    "        bill = 7\n",
    "    else:\n",
    "        print('Adult tickets are $12')\n",
    "        bill = 12\n",
    "    \n",
    "    wants_photo = input('Do you want a photo taken? Y or N. ')\n",
    "    if wants_photo == 'Y':\n",
    "        #Add $3 to their bill\n",
    "        bill = bill + 3\n",
    "    \n",
    "    print(f'Your final bill is {bill}')\n",
    "        \n",
    "else:\n",
    "    print('Sorry, you have to grow taller before you can ride.')"
   ]
  }
 ],
 "metadata": {
  "kernelspec": {
   "display_name": "Python 3 (ipykernel)",
   "language": "python",
   "name": "python3"
  },
  "language_info": {
   "codemirror_mode": {
    "name": "ipython",
    "version": 3
   },
   "file_extension": ".py",
   "mimetype": "text/x-python",
   "name": "python",
   "nbconvert_exporter": "python",
   "pygments_lexer": "ipython3",
   "version": "3.11.1"
  }
 },
 "nbformat": 4,
 "nbformat_minor": 5
}
