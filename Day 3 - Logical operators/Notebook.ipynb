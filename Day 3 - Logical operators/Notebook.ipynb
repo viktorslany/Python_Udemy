{
 "cells": [
  {
   "cell_type": "markdown",
   "id": "0018ee06",
   "metadata": {},
   "source": [
    "# Logical operations"
   ]
  },
  {
   "cell_type": "markdown",
   "id": "b01fe74f",
   "metadata": {},
   "source": [
    "### If / else"
   ]
  },
  {
   "cell_type": "code",
   "execution_count": 9,
   "id": "e30bb155",
   "metadata": {},
   "outputs": [
    {
     "name": "stdout",
     "output_type": "stream",
     "text": [
      "Welcome to the rollercoaster!\n",
      "What is your height in cm? 120\n",
      "You can ride the rollercoaster\n"
     ]
    }
   ],
   "source": [
    "print('Welcome to the rollercoaster!')\n",
    "height = int(input('What is your height in cm? '))\n",
    "\n",
    "if height >= 120:\n",
    "    print('You can ride the rollercoaster')\n",
    "else:\n",
    "    print('Sorry, you have to grow taller before you can ride.')"
   ]
  },
  {
   "cell_type": "code",
   "execution_count": 10,
   "id": "ec3d9e61",
   "metadata": {},
   "outputs": [],
   "source": [
    "#  >    \n",
    "#  <    \n",
    "#  >=\n",
    "#  <=\n",
    "#  ==  Equal to\n",
    "#  !=  Not equal to"
   ]
  },
  {
   "cell_type": "code",
   "execution_count": 25,
   "id": "57d1f6f9",
   "metadata": {},
   "outputs": [
    {
     "data": {
      "text/plain": [
       "14"
      ]
     },
     "execution_count": 25,
     "metadata": {},
     "output_type": "execute_result"
    }
   ],
   "source": [
    "#  %  Modulo\n",
    "\n",
    "30 % 16"
   ]
  },
  {
   "cell_type": "code",
   "execution_count": 17,
   "id": "90d8299d",
   "metadata": {},
   "outputs": [
    {
     "data": {
      "text/plain": [
       "2"
      ]
     },
     "execution_count": 17,
     "metadata": {},
     "output_type": "execute_result"
    }
   ],
   "source": [
    "2%6"
   ]
  },
  {
   "cell_type": "markdown",
   "id": "dfb60cbc",
   "metadata": {},
   "source": [
    "### Nested if / else"
   ]
  },
  {
   "cell_type": "code",
   "execution_count": 27,
   "id": "f0870ad6",
   "metadata": {},
   "outputs": [
    {
     "name": "stdout",
     "output_type": "stream",
     "text": [
      "Welcome to the rollercoaster!\n",
      "What is your height in cm? 130\n",
      "You can ride the rollercoaster\n",
      "What is your age? 10\n",
      "Please pay $5\n"
     ]
    }
   ],
   "source": [
    "print('Welcome to the rollercoaster!')\n",
    "height = int(input('What is your height in cm? '))\n",
    "\n",
    "if height >= 120:\n",
    "    print('You can ride the rollercoaster')\n",
    "    age = int(input('What is your age? '))\n",
    "    if age < 12:\n",
    "        print('Please pay $5')\n",
    "    elif age <= 18:\n",
    "        print('Please pay $7')\n",
    "    else:\n",
    "        print('Please pay $12')\n",
    "    \n",
    "else:\n",
    "    print('Sorry, you have to grow taller before you can ride.')"
   ]
  },
  {
   "cell_type": "markdown",
   "id": "60a8ba62",
   "metadata": {},
   "source": [
    "### Multiple if statements"
   ]
  },
  {
   "cell_type": "code",
   "execution_count": 36,
   "id": "0aa35a26",
   "metadata": {},
   "outputs": [
    {
     "name": "stdout",
     "output_type": "stream",
     "text": [
      "Welcome to the rollercoaster!\n",
      "What is your height in cm? 15\n",
      "Sorry, you have to grow taller before you can ride.\n"
     ]
    }
   ],
   "source": [
    "bill = 0\n",
    "\n",
    "print('Welcome to the rollercoaster!')\n",
    "height = int(input('What is your height in cm? '))\n",
    "\n",
    "if height >= 120:\n",
    "    print('You can ride the rollercoaster')\n",
    "    age = int(input('What is your age? '))\n",
    "    if age < 12:\n",
    "        print('Child tickets are $5')\n",
    "        bill = 5\n",
    "    elif age <= 18:\n",
    "        print('Youth tickets are $7')\n",
    "        bill = 7\n",
    "    else:\n",
    "        print('Adult tickets are $12')\n",
    "        bill = 12\n",
    "    \n",
    "    wants_photo = input('Do you want a photo taken? Y or N. ')\n",
    "    if wants_photo == 'Y':\n",
    "        #Add $3 to their bill\n",
    "        bill = bill + 3\n",
    "    \n",
    "    print(f'Your final bill is {bill}')\n",
    "        \n",
    "else:\n",
    "    print('Sorry, you have to grow taller before you can ride.')"
   ]
  },
  {
   "cell_type": "markdown",
   "id": "a526a3f6",
   "metadata": {},
   "source": [
    "### Logical operators"
   ]
  },
  {
   "cell_type": "markdown",
   "id": "960c868d",
   "metadata": {},
   "source": [
    "#### AND"
   ]
  },
  {
   "cell_type": "code",
   "execution_count": 37,
   "id": "7eb794f9",
   "metadata": {},
   "outputs": [
    {
     "data": {
      "text/plain": [
       "True"
      ]
     },
     "execution_count": 37,
     "metadata": {},
     "output_type": "execute_result"
    }
   ],
   "source": [
    "a = 12\n",
    "\n",
    "a > 10 and a < 13"
   ]
  },
  {
   "cell_type": "code",
   "execution_count": 38,
   "id": "154a37a1",
   "metadata": {},
   "outputs": [
    {
     "data": {
      "text/plain": [
       "False"
      ]
     },
     "execution_count": 38,
     "metadata": {},
     "output_type": "execute_result"
    }
   ],
   "source": [
    "a > 15 < 13"
   ]
  },
  {
   "cell_type": "markdown",
   "id": "9d678da2",
   "metadata": {},
   "source": [
    "#### OR"
   ]
  },
  {
   "cell_type": "code",
   "execution_count": 43,
   "id": "4ed69fc1",
   "metadata": {},
   "outputs": [
    {
     "data": {
      "text/plain": [
       "True"
      ]
     },
     "execution_count": 43,
     "metadata": {},
     "output_type": "execute_result"
    }
   ],
   "source": [
    "a > 15 or a < 13"
   ]
  },
  {
   "cell_type": "markdown",
   "id": "75994ada",
   "metadata": {},
   "source": [
    "#### NOT"
   ]
  },
  {
   "cell_type": "code",
   "execution_count": 39,
   "id": "e1b8f362",
   "metadata": {},
   "outputs": [
    {
     "data": {
      "text/plain": [
       "True"
      ]
     },
     "execution_count": 39,
     "metadata": {},
     "output_type": "execute_result"
    }
   ],
   "source": [
    "not a > 15"
   ]
  },
  {
   "cell_type": "markdown",
   "id": "001fa2c4",
   "metadata": {},
   "source": [
    "### Example"
   ]
  },
  {
   "cell_type": "code",
   "execution_count": 45,
   "id": "e6ac2129",
   "metadata": {},
   "outputs": [
    {
     "name": "stdout",
     "output_type": "stream",
     "text": [
      "Welcome to the rollercoaster!\n",
      "What is your height in cm? 185\n",
      "You can ride the rollercoaster\n",
      "What is your age? 50\n",
      "Everything is going to be ok. Have a free ride on us!\n",
      "Do you want a photo taken? Y or N. Y\n",
      "Your final bill is 3\n"
     ]
    }
   ],
   "source": [
    "bill = 0\n",
    "\n",
    "print('Welcome to the rollercoaster!')\n",
    "height = int(input('What is your height in cm? '))\n",
    "\n",
    "if height >= 120:\n",
    "    print('You can ride the rollercoaster')\n",
    "    age = int(input('What is your age? '))\n",
    "    if age < 12:\n",
    "        print('Child tickets are $5')\n",
    "        bill = 5\n",
    "    elif age <= 18:\n",
    "        print('Youth tickets are $7')\n",
    "        bill = 7\n",
    "        \n",
    "######\n",
    "\n",
    "    elif age >= 45 and age <= 55:\n",
    "        print('Everything is going to be ok. Have a free ride on us!')\n",
    "        \n",
    "######\n",
    "\n",
    "    else:\n",
    "        print('Adult tickets are $12')\n",
    "        bill = 12\n",
    "    \n",
    "    wants_photo = input('Do you want a photo taken? Y or N. ')\n",
    "    if wants_photo == 'Y':\n",
    "        #Add $3 to their bill\n",
    "        bill = bill + 3\n",
    "    \n",
    "    print(f'Your final bill is {bill}')\n",
    "        \n",
    "else:\n",
    "    print('Sorry, you have to grow taller before you can ride.')"
   ]
  },
  {
   "cell_type": "code",
   "execution_count": 46,
   "id": "ae3d777c",
   "metadata": {},
   "outputs": [
    {
     "data": {
      "text/plain": [
       "'angela'"
      ]
     },
     "execution_count": 46,
     "metadata": {},
     "output_type": "execute_result"
    }
   ],
   "source": [
    "'Angela'.lower()"
   ]
  },
  {
   "cell_type": "code",
   "execution_count": 47,
   "id": "bad0689c",
   "metadata": {},
   "outputs": [
    {
     "data": {
      "text/plain": [
       "1"
      ]
     },
     "execution_count": 47,
     "metadata": {},
     "output_type": "execute_result"
    }
   ],
   "source": [
    "'Angela'.count('a')"
   ]
  },
  {
   "cell_type": "code",
   "execution_count": null,
   "id": "8b35f269",
   "metadata": {},
   "outputs": [],
   "source": []
  }
 ],
 "metadata": {
  "kernelspec": {
   "display_name": "Python 3 (ipykernel)",
   "language": "python",
   "name": "python3"
  },
  "language_info": {
   "codemirror_mode": {
    "name": "ipython",
    "version": 3
   },
   "file_extension": ".py",
   "mimetype": "text/x-python",
   "name": "python",
   "nbconvert_exporter": "python",
   "pygments_lexer": "ipython3",
   "version": "3.11.1"
  }
 },
 "nbformat": 4,
 "nbformat_minor": 5
}
