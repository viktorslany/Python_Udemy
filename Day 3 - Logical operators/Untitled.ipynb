{
 "cells": [
  {
   "cell_type": "markdown",
   "id": "8ba375c5",
   "metadata": {},
   "source": [
    "# Logical operations"
   ]
  },
  {
   "cell_type": "markdown",
   "id": "3411ec1b",
   "metadata": {},
   "source": [
    "### If"
   ]
  },
  {
   "cell_type": "code",
   "execution_count": 9,
   "id": "bd6c077c",
   "metadata": {},
   "outputs": [
    {
     "name": "stdout",
     "output_type": "stream",
     "text": [
      "Welcome to the rollercoaster!\n",
      "What is your height in cm? 120\n",
      "You can ride the rollercoaster\n"
     ]
    }
   ],
   "source": [
    "print('Welcome to the rollercoaster!')\n",
    "height = int(input('What is your height in cm? '))\n",
    "\n",
    "if height >= 120:\n",
    "    print('You can ride the rollercoaster')\n",
    "else:\n",
    "    print('Sorry, you have to grow taller before you can ride.')"
   ]
  },
  {
   "cell_type": "code",
   "execution_count": 10,
   "id": "8622bbf9",
   "metadata": {},
   "outputs": [],
   "source": [
    "#  >    \n",
    "#  <    \n",
    "#  >=\n",
    "#  <=\n",
    "#  ==  Equal to\n",
    "#  !=  Not equal to"
   ]
  },
  {
   "cell_type": "code",
   "execution_count": 25,
   "id": "9ba7a25b",
   "metadata": {},
   "outputs": [
    {
     "data": {
      "text/plain": [
       "14"
      ]
     },
     "execution_count": 25,
     "metadata": {},
     "output_type": "execute_result"
    }
   ],
   "source": [
    "#  %  Modulo\n",
    "\n",
    "30 % 16"
   ]
  },
  {
   "cell_type": "code",
   "execution_count": 17,
   "id": "fe3ea46e",
   "metadata": {},
   "outputs": [
    {
     "data": {
      "text/plain": [
       "2"
      ]
     },
     "execution_count": 17,
     "metadata": {},
     "output_type": "execute_result"
    }
   ],
   "source": [
    "2%6"
   ]
  },
  {
   "cell_type": "code",
   "execution_count": null,
   "id": "1b462bab",
   "metadata": {},
   "outputs": [],
   "source": []
  }
 ],
 "metadata": {
  "kernelspec": {
   "display_name": "Python 3 (ipykernel)",
   "language": "python",
   "name": "python3"
  },
  "language_info": {
   "codemirror_mode": {
    "name": "ipython",
    "version": 3
   },
   "file_extension": ".py",
   "mimetype": "text/x-python",
   "name": "python",
   "nbconvert_exporter": "python",
   "pygments_lexer": "ipython3",
   "version": "3.11.1"
  }
 },
 "nbformat": 4,
 "nbformat_minor": 5
}
