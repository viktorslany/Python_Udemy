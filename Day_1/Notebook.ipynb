{
 "cells": [
  {
   "cell_type": "markdown",
   "id": "7aefc9d7",
   "metadata": {},
   "source": [
    "# Print function"
   ]
  },
  {
   "cell_type": "markdown",
   "id": "1efc5a3e",
   "metadata": {},
   "source": [
    "### Basic operations"
   ]
  },
  {
   "cell_type": "code",
   "execution_count": 11,
   "id": "855c5ffc-9bf4-4111-b55e-107563219f2d",
   "metadata": {},
   "outputs": [
    {
     "name": "stdout",
     "output_type": "stream",
     "text": [
      "Hello World!\n"
     ]
    }
   ],
   "source": [
    "print('Hello World!')"
   ]
  },
  {
   "cell_type": "code",
   "execution_count": 12,
   "id": "13b31c0c",
   "metadata": {},
   "outputs": [
    {
     "name": "stdout",
     "output_type": "stream",
     "text": [
      "Hello World!\n",
      "Hello world!\n"
     ]
    }
   ],
   "source": [
    "print('Hello World!\\nHello world!')"
   ]
  },
  {
   "cell_type": "code",
   "execution_count": 13,
   "id": "3fa9aa4f",
   "metadata": {},
   "outputs": [
    {
     "name": "stdout",
     "output_type": "stream",
     "text": [
      "Hello World!\n",
      "Hello world!\n",
      "Hello world!\n"
     ]
    }
   ],
   "source": [
    "print('Hello World!\\nHello world!\\nHello world!')"
   ]
  },
  {
   "cell_type": "code",
   "execution_count": 14,
   "id": "74ddeada",
   "metadata": {},
   "outputs": [
    {
     "name": "stdout",
     "output_type": "stream",
     "text": [
      "HelloAngela\n"
     ]
    }
   ],
   "source": [
    "print('Hello' + 'Angela')"
   ]
  },
  {
   "cell_type": "code",
   "execution_count": 15,
   "id": "b3f14a22",
   "metadata": {},
   "outputs": [
    {
     "name": "stdout",
     "output_type": "stream",
     "text": [
      "Hello Angela\n"
     ]
    }
   ],
   "source": [
    "print('Hello' + ' ' + 'Angela')"
   ]
  },
  {
   "cell_type": "markdown",
   "id": "17c6e63d",
   "metadata": {},
   "source": [
    "Missing **quotes** error message"
   ]
  },
  {
   "cell_type": "code",
   "execution_count": 18,
   "id": "0fd5b80c",
   "metadata": {},
   "outputs": [
    {
     "ename": "SyntaxError",
     "evalue": "unterminated string literal (detected at line 1) (2956549255.py, line 1)",
     "output_type": "error",
     "traceback": [
      "\u001b[0;36m  Cell \u001b[0;32mIn[18], line 1\u001b[0;36m\u001b[0m\n\u001b[0;31m    print('Hello' + ' ' + 'Angela)\u001b[0m\n\u001b[0m                          ^\u001b[0m\n\u001b[0;31mSyntaxError\u001b[0m\u001b[0;31m:\u001b[0m unterminated string literal (detected at line 1)\n"
     ]
    }
   ],
   "source": [
    "print('Hello' + ' ' + 'Angela)"
   ]
  }
 ],
 "metadata": {
  "kernelspec": {
   "display_name": "Python 3 (ipykernel)",
   "language": "python",
   "name": "python3"
  },
  "language_info": {
   "codemirror_mode": {
    "name": "ipython",
    "version": 3
   },
   "file_extension": ".py",
   "mimetype": "text/x-python",
   "name": "python",
   "nbconvert_exporter": "python",
   "pygments_lexer": "ipython3",
   "version": "3.11.1"
  }
 },
 "nbformat": 4,
 "nbformat_minor": 5
}
